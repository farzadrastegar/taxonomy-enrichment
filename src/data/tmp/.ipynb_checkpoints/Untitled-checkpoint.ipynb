{
 "cells": [
  {
   "cell_type": "code",
   "execution_count": 1,
   "metadata": {},
   "outputs": [],
   "source": [
    "from lxml import etree as ElementTree"
   ]
  },
  {
   "cell_type": "code",
   "execution_count": 3,
   "metadata": {},
   "outputs": [],
   "source": [
    "def readXML(xmlPath):\n",
    "        \n",
    "        categoryList=[  'BIBM',\n",
    "                        'RECOMB',\n",
    "                        'INFOCOM',\n",
    "                        'SIGCOMM',\n",
    "                        'SC',\n",
    "                        'ISCA',\n",
    "                        'EUROCRYPT',\n",
    "                        'CRYPTO',\n",
    "                        'DCC',\n",
    "                        'CVPR',\n",
    "                        'ICCV',\n",
    "                        'ACL',\n",
    "                        'COLING'\n",
    "                        ]\n",
    "        parser=ElementTree.XMLParser(dtd_validation=True)\n",
    "        #root = xml.etree.ElementTree.parse(xmlPath).getroot()\n",
    "        root = ElementTree.parse(xmlPath, parser).getroot()\n",
    "        articles = []\n",
    "        for category in categoryList:\n",
    "            cnt = 0\n",
    "            for paper in root.iter('inproceedings'):\n",
    "                booktitle = next(paper.iter('booktitle')).text\n",
    "                \n",
    "                year = int(next(paper.iter('year')).text)\n",
    "\n",
    "                # TODO -- the year & book category can be made parameterized\n",
    "                \n",
    "                if booktitle == category and year<=1980:   \n",
    "                    articles.append(paper)\n",
    "                    cnt += 1\n",
    "        return articles"
   ]
  },
  {
   "cell_type": "code",
   "execution_count": null,
   "metadata": {},
   "outputs": [],
   "source": []
  },
  {
   "cell_type": "code",
   "execution_count": 8,
   "metadata": {},
   "outputs": [
    {
     "ename": "ValueError",
     "evalue": "too many values to unpack (expected 2)",
     "output_type": "error",
     "traceback": [
      "\u001b[0;31m---------------------------------------------------------------------------\u001b[0m",
      "\u001b[0;31mValueError\u001b[0m                                Traceback (most recent call last)",
      "\u001b[0;32m<ipython-input-8-49b3b81d5ad9>\u001b[0m in \u001b[0;36m<module>\u001b[0;34m\u001b[0m\n\u001b[1;32m      8\u001b[0m \u001b[0;34m\u001b[0m\u001b[0m\n\u001b[1;32m      9\u001b[0m \u001b[0;32mwith\u001b[0m \u001b[0mopen\u001b[0m\u001b[0;34m(\u001b[0m\u001b[0;34m'./dblp.txt'\u001b[0m\u001b[0;34m,\u001b[0m\u001b[0;34m'w'\u001b[0m\u001b[0;34m)\u001b[0m \u001b[0;32mas\u001b[0m \u001b[0mfin\u001b[0m\u001b[0;34m:\u001b[0m\u001b[0;34m\u001b[0m\u001b[0;34m\u001b[0m\u001b[0m\n\u001b[0;32m---> 10\u001b[0;31m                    \u001b[0;32mfor\u001b[0m \u001b[0mkey\u001b[0m\u001b[0;34m,\u001b[0m\u001b[0mval\u001b[0m \u001b[0;32min\u001b[0m \u001b[0mtopics\u001b[0m\u001b[0;34m:\u001b[0m\u001b[0;34m\u001b[0m\u001b[0;34m\u001b[0m\u001b[0m\n\u001b[0m\u001b[1;32m     11\u001b[0m                        \u001b[0;32mfor\u001b[0m \u001b[0mtitle\u001b[0m \u001b[0;32min\u001b[0m \u001b[0mval\u001b[0m\u001b[0;34m:\u001b[0m\u001b[0;34m\u001b[0m\u001b[0;34m\u001b[0m\u001b[0m\n\u001b[1;32m     12\u001b[0m                            \u001b[0mfin\u001b[0m\u001b[0;34m.\u001b[0m\u001b[0mwrite\u001b[0m\u001b[0;34m(\u001b[0m\u001b[0mtitle\u001b[0m\u001b[0;34m.\u001b[0m\u001b[0mstrip\u001b[0m\u001b[0;34m(\u001b[0m\u001b[0;34m'\\n'\u001b[0m\u001b[0;34m)\u001b[0m\u001b[0;34m)\u001b[0m\u001b[0;34m\u001b[0m\u001b[0;34m\u001b[0m\u001b[0m\n",
      "\u001b[0;31mValueError\u001b[0m: too many values to unpack (expected 2)"
     ]
    }
   ],
   "source": [
    "topics = {}\n",
    "for paper in readXML('./dblp.xml'):\n",
    "                tl = next(paper.iter('title')).text\n",
    "                key = next(paper.iter('booktitle')).text\n",
    "                if key not in topics:\n",
    "                    topics[key] = []\n",
    "                    topics[key].append(tl)\n",
    "                    \n",
    "with open('./dblp.txt','w') as fin:\n",
    "                   for key,val in topics:\n",
    "                       for title in val:\n",
    "                           fin.write(title.strip('\\n'))\n",
    "                           fin.write(' ')\n",
    "                       fin.write('\\n')"
   ]
  },
  {
   "cell_type": "code",
   "execution_count": 9,
   "metadata": {},
   "outputs": [
    {
     "name": "stdout",
     "output_type": "stream",
     "text": [
      "{'ISCA': ['A Bit-Slice Cache Controller.'], 'ACL': ['Paralanguage in Computer Mediated Communication.'], 'COLING': ['An Experimental Applicative Programming Language For Linguistics And String Processing.']}\n"
     ]
    }
   ],
   "source": [
    "print(topics)"
   ]
  },
  {
   "cell_type": "code",
   "execution_count": 11,
   "metadata": {},
   "outputs": [
    {
     "name": "stdout",
     "output_type": "stream",
     "text": [
      "A Bit-Slice Cache Controller.\n",
      "Paralanguage in Computer Mediated Communication.\n",
      "An Experimental Applicative Programming Language For Linguistics And String Processing.\n"
     ]
    }
   ],
   "source": [
    "for key,val in topics.items():\n",
    "    for title in val:\n",
    "        print(title)"
   ]
  },
  {
   "cell_type": "code",
   "execution_count": 36,
   "metadata": {},
   "outputs": [],
   "source": [
    "from __future__ import division\n",
    "from __future__ import print_function\n",
    "from __future__ import unicode_literals\n",
    "\n",
    "import sys\n",
    "import os\n",
    "\n",
    "import networkx as nx\n",
    "import nltk\n",
    "import numpy as np\n",
    "from nltk.corpus import stopwords\n",
    "sw = stopwords.words(\"english\")\n",
    "\n",
    "data_type={}\n",
    "\n",
    "def filter_word(wrd_freq,topics,vocab):\n",
    "    #Filter imporatnt words\n",
    "    for v in topics:\n",
    "        tmp = []\n",
    "        for tl in topics[v]:\n",
    "            tl = [w for w in tl if w in vocab]\n",
    "            if len(tl) > 0:\n",
    "                tmp.append(tl)\n",
    "        topics[v] = tmp\n",
    "    return topics\n",
    "    \n",
    "def compute_tfidf(topics,vocab):\n",
    "    # Compute tf-idf.\n",
    "    tf = dict((v, {}) for v in topics)\n",
    "    for v in topics:\n",
    "        for tl in topics[v]:\n",
    "            for w in tl:\n",
    "                if w in tf[v]:\n",
    "                    tf[v][w] += 1\n",
    "                else:\n",
    "                    tf[v][w] = 1\n",
    "    idf = dict((w, 0) for w in vocab)\n",
    "    for w in vocab:\n",
    "        cnt = 0\n",
    "        for v in topics:\n",
    "            if w in tf[v]:\n",
    "                assert tf[v][w] > 0\n",
    "                cnt += 1\n",
    "        idf[w] = np.log(len(topics) / cnt)\n",
    "    tf_idf = dict((v, {}) for v in topics)\n",
    "    for v in topics:\n",
    "        for tl in topics[v]:\n",
    "            for w in tl:\n",
    "                tf_idf[v][w] = tf[v][w] * idf[w]\n",
    "    return tf_idf\n",
    "\n",
    "def create_network(dir_path,tf_idf,topics):\n",
    "    '''\n",
    "        Algorithm to \n",
    "    \n",
    "    '''\n",
    "    g = nx.Graph()\n",
    "    for v in topics:\n",
    "        scores = sorted(tf_idf[v].values())\n",
    "        #print(scores,v)\n",
    "        thresh = scores[-int(0.05 * len(scores))] # This is for top 5% from tfidf score\n",
    "        for tl in topics[v]:\n",
    "            for x in tl:\n",
    "                if tf_idf[v][x] >= thresh:\n",
    "                    for y in tl:\n",
    "                        if x != y and tf_idf[v][y] >= thresh:\n",
    "                            g.add_edge(x, y)\n",
    "                            \n",
    "    g = next(nx.connected_component_subgraphs(g))\n",
    "    \n",
    "    mapping = dict(zip(g, range(g.number_of_nodes())))\n",
    "    \n",
    "    with open(os.path.join(dir_path,'db.voc'), 'w',encoding='iso-8859-1') as fout:\n",
    "        for w, i in mapping.items():\n",
    "            fout.write('%d %s\\n' % (i, w))\n",
    "            \n",
    "    g = nx.relabel_nodes(g, mapping)\n",
    "    \n",
    "    elist_path=os.path.join(dir_path,'network.txt')\n",
    "    \n",
    "    nx.write_edgelist(g, elist_path, data=False)\n",
    "    \n",
    "    \n",
    "def main_title(inputData,dirPath):\n",
    "    wrd_freq = {}\n",
    "    topics = {}\n",
    "    corpus=inputData\n",
    "    for key,paper in corpus.items():\n",
    "        for tl in paper:\n",
    "            tl = nltk.word_tokenize(tl)\n",
    "            tl = [w.lower() for w in tl]\n",
    "            for w in tl:\n",
    "                if w in wrd_freq:\n",
    "                    wrd_freq[w] += 1\n",
    "                else:\n",
    "                    wrd_freq[w] = 0\n",
    "            if key not in topics:\n",
    "                topics[key] = []\n",
    "            topics[key].append(tl)\n",
    "    \n",
    "    vocab = set([w for w in wrd_freq])\n",
    "    topics=filter_word(wrd_freq,topics,vocab)\n",
    "    tf_idf=compute_tfidf(topics,vocab)\n",
    "    create_network(dirPath,tf_idf,topics)"
   ]
  },
  {
   "cell_type": "code",
   "execution_count": 44,
   "metadata": {},
   "outputs": [],
   "source": [
    "corpus={}\n",
    "cnt=0\n",
    "with open('./papers.txt','r') as fin:\n",
    "    for line in fin:\n",
    "        if line.strip('\\n'):\n",
    "            if cnt not in corpus:\n",
    "                corpus[cnt]=[]\n",
    "            corpus[cnt].append(line.strip('\\n'))\n",
    "            cnt = cnt +1\n",
    "        "
   ]
  },
  {
   "cell_type": "code",
   "execution_count": 45,
   "metadata": {},
   "outputs": [
    {
     "name": "stdout",
     "output_type": "stream",
     "text": [
      "['start research political game university five_year_ago would_take decade happen_say_gonzalo frasca computer_game specialist information technology university copenhagen admit first_person surprise fast evolve add uruguayan-born researcher create game political campaign artist designer experiment form game agenda project newsgaming aim comment international news event game']\n"
     ]
    }
   ],
   "source": [
    "main_title(corpus,'./')\n",
    "#print(corpus[963])"
   ]
  },
  {
   "cell_type": "code",
   "execution_count": null,
   "metadata": {},
   "outputs": [],
   "source": []
  }
 ],
 "metadata": {
  "kernelspec": {
   "display_name": "Python 3",
   "language": "python",
   "name": "python3"
  },
  "language_info": {
   "codemirror_mode": {
    "name": "ipython",
    "version": 3
   },
   "file_extension": ".py",
   "mimetype": "text/x-python",
   "name": "python",
   "nbconvert_exporter": "python",
   "pygments_lexer": "ipython3",
   "version": "3.7.2"
  }
 },
 "nbformat": 4,
 "nbformat_minor": 4
}
